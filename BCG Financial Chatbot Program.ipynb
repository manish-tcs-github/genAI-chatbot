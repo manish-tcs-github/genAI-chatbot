{
 "cells": [
  {
   "cell_type": "markdown",
   "id": "70e5d385-d383-4899-a754-dfe1a244bdbd",
   "metadata": {},
   "source": [
    "# 1. Loading the Data\n",
    "CSV File Overview:\n",
    "- Extracted financial data from 10-K and 10-Q reports for three companies: Microsoft, Tesla, and Apple.\n",
    "- Compiled and structured the data in an Excel spreadsheet before exporting it as a CSV file for further analysis."
   ]
  },
  {
   "cell_type": "code",
   "execution_count": 2,
   "id": "f95c2f74-9b24-4361-be1c-bca12a259f94",
   "metadata": {},
   "outputs": [],
   "source": [
    "import pandas as pd"
   ]
  },
  {
   "cell_type": "code",
   "execution_count": 3,
   "id": "801a6779-2853-44a1-8cea-27055a00aa64",
   "metadata": {},
   "outputs": [],
   "source": [
    "df = pd.read_csv(r\"Fiscal Data_All Companies_CSV.csv\", header=[0, 1])"
   ]
  },
  {
   "cell_type": "code",
   "execution_count": 4,
   "id": "eaab2099-deff-431b-ab0f-433eb7700709",
   "metadata": {},
   "outputs": [
    {
     "name": "stdout",
     "output_type": "stream",
     "text": [
      "MultiIndex([('(millions)', 'Unnamed: 0_level_1'),\n",
      "            ( 'Microsoft',      'Total Revenue'),\n",
      "            ( 'Microsoft',         'Net Income'),\n",
      "            ( 'Microsoft',       'Total Assets'),\n",
      "            ( 'Microsoft',  'Total Liabilities'),\n",
      "            ( 'Microsoft',          'Cash Flow'),\n",
      "            (     'Tesla',      'Total Revenue'),\n",
      "            (     'Tesla',         'Net Income'),\n",
      "            (     'Tesla',       'Total Assets'),\n",
      "            (     'Tesla',  'Total Liabilities'),\n",
      "            (     'Tesla',          'Cash Flow'),\n",
      "            (     'Apple',      'Total Revenue'),\n",
      "            (     'Apple',         'Net Income'),\n",
      "            (     'Apple',       'Total Assets'),\n",
      "            (     'Apple',  'Total Liabilities'),\n",
      "            (     'Apple',          'Cash Flow')],\n",
      "           )\n"
     ]
    }
   ],
   "source": [
    "print(df.columns)"
   ]
  },
  {
   "cell_type": "markdown",
   "id": "a77cd460-7c82-4b02-978c-85885f626bc0",
   "metadata": {},
   "source": [
    "# 2. Calculating Growth Metrics\n",
    ".pct_change() calculates the percentage difference from the previous year."
   ]
  },
  {
   "cell_type": "code",
   "execution_count": 6,
   "id": "41a300d6-0073-4792-9ea8-2ed359f45fcd",
   "metadata": {},
   "outputs": [
    {
     "name": "stdout",
     "output_type": "stream",
     "text": [
      "0          NaN\n",
      "1    17.956071\n",
      "2     6.882030\n",
      "Name: (Microsoft, Revenue Growth (%)), dtype: float64\n"
     ]
    }
   ],
   "source": [
    "# Calculate growth metrics for Microsoft\n",
    "df[('Microsoft', 'Revenue Growth (%)')] = df[('Microsoft', 'Total Revenue')].pct_change() * 100\n",
    "df[('Microsoft', 'Net Income Growth (%)')] = df[('Microsoft', 'Net Income')].pct_change() * 100\n",
    "\n",
    "# Repeat for Tesla\n",
    "df[('Tesla', 'Revenue Growth (%)')] = df[('Tesla', 'Total Revenue')].pct_change() * 100\n",
    "df[('Tesla', 'Net Income Growth (%)')] = df[('Tesla', 'Net Income')].pct_change() * 100\n",
    "\n",
    "# Repeat for Apple\n",
    "df[('Apple', 'Revenue Growth (%)')] = df[('Apple', 'Total Revenue')].pct_change() * 100\n",
    "df[('Apple', 'Net Income Growth (%)')] = df[('Apple', 'Net Income')].pct_change() * 100\n",
    "\n",
    "print (df[('Microsoft', 'Revenue Growth (%)')])"
   ]
  },
  {
   "cell_type": "markdown",
   "id": "abe7347b-70c8-46ec-b497-9c8820f4f44e",
   "metadata": {},
   "source": [
    "# 3. Handling Missing Data\n",
    ".fillna(0, inplace=True) replaces missing values with 0 to keep things clean.\n",
    "Some rows (especially the first) might have NaN values because there's no previous year to compare.\n",
    "inplace=True modifies the DataFrame directly instead of creating a copy."
   ]
  },
  {
   "cell_type": "code",
   "execution_count": 8,
   "id": "1b69e71c-142f-44f8-9c78-4d1a9d8696c5",
   "metadata": {},
   "outputs": [
    {
     "name": "stdout",
     "output_type": "stream",
     "text": [
      "0     0.000000\n",
      "1    51.351653\n",
      "2    18.795267\n",
      "Name: (Tesla, Revenue Growth (%)), dtype: float64\n",
      "0     0.000000\n",
      "1    18.715216\n",
      "2    -0.518299\n",
      "Name: (Apple, Net Income Growth (%)), dtype: float64\n"
     ]
    },
    {
     "name": "stderr",
     "output_type": "stream",
     "text": [
      "C:\\Users\\Leo\\AppData\\Local\\Temp\\ipykernel_32752\\566841649.py:1: FutureWarning: A value is trying to be set on a copy of a DataFrame or Series through chained assignment using an inplace method.\n",
      "The behavior will change in pandas 3.0. This inplace method will never work because the intermediate object on which we are setting values always behaves as a copy.\n",
      "\n",
      "For example, when doing 'df[col].method(value, inplace=True)', try using 'df.method({col: value}, inplace=True)' or df[col] = df[col].method(value) instead, to perform the operation inplace on the original object.\n",
      "\n",
      "\n",
      "  df[('Microsoft', 'Revenue Growth (%)')].fillna(0, inplace=True)\n",
      "C:\\Users\\Leo\\AppData\\Local\\Temp\\ipykernel_32752\\566841649.py:2: FutureWarning: A value is trying to be set on a copy of a DataFrame or Series through chained assignment using an inplace method.\n",
      "The behavior will change in pandas 3.0. This inplace method will never work because the intermediate object on which we are setting values always behaves as a copy.\n",
      "\n",
      "For example, when doing 'df[col].method(value, inplace=True)', try using 'df.method({col: value}, inplace=True)' or df[col] = df[col].method(value) instead, to perform the operation inplace on the original object.\n",
      "\n",
      "\n",
      "  df[('Microsoft', 'Net Income Growth (%)')].fillna(0, inplace=True)\n",
      "C:\\Users\\Leo\\AppData\\Local\\Temp\\ipykernel_32752\\566841649.py:4: FutureWarning: A value is trying to be set on a copy of a DataFrame or Series through chained assignment using an inplace method.\n",
      "The behavior will change in pandas 3.0. This inplace method will never work because the intermediate object on which we are setting values always behaves as a copy.\n",
      "\n",
      "For example, when doing 'df[col].method(value, inplace=True)', try using 'df.method({col: value}, inplace=True)' or df[col] = df[col].method(value) instead, to perform the operation inplace on the original object.\n",
      "\n",
      "\n",
      "  df[('Tesla', 'Revenue Growth (%)')].fillna(0, inplace=True)\n",
      "C:\\Users\\Leo\\AppData\\Local\\Temp\\ipykernel_32752\\566841649.py:5: FutureWarning: A value is trying to be set on a copy of a DataFrame or Series through chained assignment using an inplace method.\n",
      "The behavior will change in pandas 3.0. This inplace method will never work because the intermediate object on which we are setting values always behaves as a copy.\n",
      "\n",
      "For example, when doing 'df[col].method(value, inplace=True)', try using 'df.method({col: value}, inplace=True)' or df[col] = df[col].method(value) instead, to perform the operation inplace on the original object.\n",
      "\n",
      "\n",
      "  df[('Tesla', 'Net Income Growth (%)')].fillna(0, inplace=True)\n",
      "C:\\Users\\Leo\\AppData\\Local\\Temp\\ipykernel_32752\\566841649.py:7: FutureWarning: A value is trying to be set on a copy of a DataFrame or Series through chained assignment using an inplace method.\n",
      "The behavior will change in pandas 3.0. This inplace method will never work because the intermediate object on which we are setting values always behaves as a copy.\n",
      "\n",
      "For example, when doing 'df[col].method(value, inplace=True)', try using 'df.method({col: value}, inplace=True)' or df[col] = df[col].method(value) instead, to perform the operation inplace on the original object.\n",
      "\n",
      "\n",
      "  df[('Apple', 'Revenue Growth (%)')].fillna(0, inplace=True)\n",
      "C:\\Users\\Leo\\AppData\\Local\\Temp\\ipykernel_32752\\566841649.py:8: FutureWarning: A value is trying to be set on a copy of a DataFrame or Series through chained assignment using an inplace method.\n",
      "The behavior will change in pandas 3.0. This inplace method will never work because the intermediate object on which we are setting values always behaves as a copy.\n",
      "\n",
      "For example, when doing 'df[col].method(value, inplace=True)', try using 'df.method({col: value}, inplace=True)' or df[col] = df[col].method(value) instead, to perform the operation inplace on the original object.\n",
      "\n",
      "\n",
      "  df[('Apple', 'Net Income Growth (%)')].fillna(0, inplace=True)\n"
     ]
    }
   ],
   "source": [
    "df[('Microsoft', 'Revenue Growth (%)')].fillna(0, inplace=True)\n",
    "df[('Microsoft', 'Net Income Growth (%)')].fillna(0, inplace=True)\n",
    "\n",
    "df[('Tesla', 'Revenue Growth (%)')].fillna(0, inplace=True)\n",
    "df[('Tesla', 'Net Income Growth (%)')].fillna(0, inplace=True)\n",
    "\n",
    "df[('Apple', 'Revenue Growth (%)')].fillna(0, inplace=True)\n",
    "df[('Apple', 'Net Income Growth (%)')].fillna(0, inplace=True)\n",
    "\n",
    "print (df[('Tesla', 'Revenue Growth (%)')])\n",
    "print (df[('Apple', 'Net Income Growth (%)')])"
   ]
  },
  {
   "cell_type": "markdown",
   "id": "6d36819e-b93e-4077-a981-b0945cc5bebe",
   "metadata": {},
   "source": [
    "# 4. Printing Descriptive Statistics"
   ]
  },
  {
   "cell_type": "code",
   "execution_count": 10,
   "id": "a6737d0f-447d-4444-950a-b757314a0953",
   "metadata": {},
   "outputs": [
    {
     "name": "stdout",
     "output_type": "stream",
     "text": [
      "Descriptive statistics for Microsoft's Revenue Growth (%)\n",
      "count     3.000000\n",
      "mean      8.279367\n",
      "std       9.059224\n",
      "min       0.000000\n",
      "25%       3.441015\n",
      "50%       6.882030\n",
      "75%      12.419050\n",
      "max      17.956071\n",
      "Name: (Microsoft, Revenue Growth (%)), dtype: float64\n",
      "\n",
      "Descriptive statistics for Microsoft's Net Income Growth (%)\n",
      "count     3.000000\n",
      "mean      6.065639\n",
      "std      10.957920\n",
      "min      -0.518299\n",
      "25%      -0.259149\n",
      "50%       0.000000\n",
      "75%       9.357608\n",
      "max      18.715216\n",
      "Name: (Microsoft, Net Income Growth (%)), dtype: float64\n",
      "\n",
      "Descriptive statistics for Tesla's Revenue Growth (%)\n",
      "count     3.000000\n",
      "mean     23.382306\n",
      "std      25.981316\n",
      "min       0.000000\n",
      "25%       9.397633\n",
      "50%      18.795267\n",
      "75%      35.073460\n",
      "max      51.351653\n",
      "Name: (Tesla, Revenue Growth (%)), dtype: float64\n",
      "\n",
      "Descriptive statistics for Tesla's Net Income Growth (%)\n",
      "count      3.000000\n",
      "mean      47.326534\n",
      "std       66.230911\n",
      "min        0.000000\n",
      "25%        9.482005\n",
      "50%       18.964010\n",
      "75%       70.989801\n",
      "max      123.015592\n",
      "Name: (Tesla, Net Income Growth (%)), dtype: float64\n",
      "\n",
      "Descriptive statistics for Apple's Revenue Growth (%)\n",
      "count     3.000000\n",
      "mean      8.279367\n",
      "std       9.059224\n",
      "min       0.000000\n",
      "25%       3.441015\n",
      "50%       6.882030\n",
      "75%      12.419050\n",
      "max      17.956071\n",
      "Name: (Apple, Revenue Growth (%)), dtype: float64\n",
      "\n",
      "Descriptive statistics for Apple's Net Income Growth (%)\n",
      "count     3.000000\n",
      "mean      6.065639\n",
      "std      10.957920\n",
      "min      -0.518299\n",
      "25%      -0.259149\n",
      "50%       0.000000\n",
      "75%       9.357608\n",
      "max      18.715216\n",
      "Name: (Apple, Net Income Growth (%)), dtype: float64\n"
     ]
    }
   ],
   "source": [
    "# Descriptive statistics for Microsoft's growth metrics\n",
    "print(\"Descriptive statistics for Microsoft's Revenue Growth (%)\")\n",
    "print(df[('Microsoft', 'Revenue Growth (%)')].describe())\n",
    "print(\"\\nDescriptive statistics for Microsoft's Net Income Growth (%)\")\n",
    "print(df[('Microsoft', 'Net Income Growth (%)')].describe())\n",
    "\n",
    "# Descriptive statistics for Tesla's growth metrics\n",
    "print(\"\\nDescriptive statistics for Tesla's Revenue Growth (%)\")\n",
    "print(df[('Tesla', 'Revenue Growth (%)')].describe())\n",
    "print(\"\\nDescriptive statistics for Tesla's Net Income Growth (%)\")\n",
    "print(df[('Tesla', 'Net Income Growth (%)')].describe())\n",
    "\n",
    "# Descriptive statistics for Apple's growth metrics\n",
    "print(\"\\nDescriptive statistics for Apple's Revenue Growth (%)\")\n",
    "print(df[('Apple', 'Revenue Growth (%)')].describe())\n",
    "print(\"\\nDescriptive statistics for Apple's Net Income Growth (%)\")\n",
    "print(df[('Apple', 'Net Income Growth (%)')].describe())"
   ]
  },
  {
   "cell_type": "markdown",
   "id": "0c06894a-9753-4bb7-9687-bee18e11ef37",
   "metadata": {},
   "source": [
    "# 5. Building the chatbot"
   ]
  },
  {
   "cell_type": "markdown",
   "id": "febb0417-5e12-4648-898c-401201900ca3",
   "metadata": {},
   "source": [
    "A simple chatbot function that provides predefined responses based on the user query.\n",
    "\n",
    "    Parameters:\n",
    "    - user_query: The user's question (string).\n",
    "    - company: The company to query (e.g., 'Microsoft', 'Tesla', 'Apple').\n",
    "    - df: The DataFrame containing the financial data.\n",
    "\n",
    "    Returns:\n",
    "    - A string response to the query."
   ]
  },
  {
   "cell_type": "code",
   "execution_count": 22,
   "id": "fdfd207d-44fa-405d-a70b-9f9aaf4c0267",
   "metadata": {},
   "outputs": [
    {
     "name": "stdout",
     "output_type": "stream",
     "text": [
      "The total revenue for Microsoft is 578273.\n",
      "The net income for Tesla has changed by 18.96% over the last year.\n",
      "The revenue growth percentage for Apple is 6.88%.\n",
      "The net income growth percentage for Tesla is 18.96%.\n"
     ]
    }
   ],
   "source": [
    "def simple_chatbot(user_query, company, df):\n",
    "    \"\"\"\n",
    "    A simple chatbot function that provides predefined responses based on the user query.\n",
    "\n",
    "    Parameters:\n",
    "    - user_query: The user's question (string).\n",
    "    - company: The company to query (e.g., 'Microsoft', 'Tesla', 'Apple').\n",
    "    - df: The DataFrame containing the financial data.\n",
    "\n",
    "    Returns:\n",
    "    - A string response to the query.\n",
    "    \"\"\"\n",
    "    try:\n",
    "        if user_query == \"What is the total revenue?\":\n",
    "            total_revenue = df[(company, 'Total Revenue')].sum()\n",
    "            return f\"The total revenue for {company} is {total_revenue}.\"\n",
    "        elif user_query == \"How has net income changed over the last year?\":\n",
    "            net_income_change = df[(company, 'Net Income')].pct_change().iloc[-1] * 100\n",
    "            return f\"The net income for {company} has changed by {net_income_change:.2f}% over the last year.\"\n",
    "        elif user_query == \"What is the revenue growth percentage?\":\n",
    "            revenue_growth = df[(company, 'Revenue Growth (%)')].iloc[-1]\n",
    "            return f\"The revenue growth percentage for {company} is {revenue_growth:.2f}%.\"\n",
    "        elif user_query == \"What is the net income growth percentage?\":\n",
    "            net_income_growth = df[(company, 'Net Income Growth (%)')].iloc[-1]\n",
    "            return f\"The net income growth percentage for {company} is {net_income_growth:.2f}%.\"\n",
    "        else:\n",
    "            return \"Sorry, I can only provide information on predefined queries.\"\n",
    "    \n",
    "    except KeyError:\n",
    "        return f\"Sorry, the requested data for {company} or query is not available.\"\n",
    "    except Exception as e:\n",
    "        return f\"An error occurred: {e}\"\n",
    "\n",
    "# Example usage with the DataFrame\n",
    "print(simple_chatbot(\"What is the total revenue?\", \"Microsoft\", df))\n",
    "print(simple_chatbot(\"How has net income changed over the last year?\", \"Tesla\", df))\n",
    "print(simple_chatbot(\"What is the revenue growth percentage?\", \"Apple\", df))\n",
    "print(simple_chatbot(\"What is the net income growth percentage?\", \"Tesla\", df))\n"
   ]
  },
  {
   "cell_type": "code",
   "execution_count": null,
   "id": "fa34ae7e-3356-47c1-9338-5590a549c978",
   "metadata": {},
   "outputs": [],
   "source": []
  }
 ],
 "metadata": {
  "kernelspec": {
   "display_name": "Python 3 (ipykernel)",
   "language": "python",
   "name": "python3"
  },
  "language_info": {
   "codemirror_mode": {
    "name": "ipython",
    "version": 3
   },
   "file_extension": ".py",
   "mimetype": "text/x-python",
   "name": "python",
   "nbconvert_exporter": "python",
   "pygments_lexer": "ipython3",
   "version": "3.12.7"
  }
 },
 "nbformat": 4,
 "nbformat_minor": 5
}
